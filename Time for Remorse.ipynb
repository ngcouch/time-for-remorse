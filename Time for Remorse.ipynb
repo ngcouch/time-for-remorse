{
 "cells": [
  {
   "cell_type": "code",
   "execution_count": 9,
   "metadata": {
    "slideshow": {
     "slide_type": "skip"
    }
   },
   "outputs": [],
   "source": [
    "require(tidyverse)\n",
    "read.csv(\"participant_level.csv\") -> participants\n",
    "read.csv(\"trial_level.csv\") -> trials"
   ]
  },
  {
   "cell_type": "markdown",
   "metadata": {},
   "source": [
    "Are people’s intuitions of clock semantics flexible, as Nathan proposes, or rigid, as the Hollen believes? If the latter, then clock displays that do not correspond to real, physical clocks should be uninterpretable to most people. If Nathan is correct, then people should be able to successfully read such clocks, if the clocks follow some clear semantic principle. \n",
    "\n",
    "The present study was designed to test between these two, competing hypotheses by asking participants to read a variety of clocks which implied different semantic principles, and tested whether their interpretation of the clock was affected by whether the hour hand was realistic or not. We also assessed participant’s representations of clocks more directly by having them draw clocks looking at how they positioned the hour hand.\n",
    "\n",
    "We agreed to a single stage wager, the outcome to be decided by the data collected by the survey. If the majority of the participants failed to consistently read the figurative clocks, then the wager would be decided in Hollen's favor. Conversely, if the participants largely succeeded in reading the clocks, then Nathan would be the winner. The winner of the bet was to be treated to a nice dinner at the loser's expense. The timing of the dinner would be exact: if the loser was late, then they would be mocked, and would additionally buy the winner a nice drink at a bar. Finally, the loser of the bet was to make a public post advertising this paper, along with a confession that they can’t read clocks. "
   ]
  },
  {
   "cell_type": "markdown",
   "metadata": {},
   "source": [
    "## Methods\n",
    "\n",
    "To test the two hypotheses, we asked our close friends to complete a short survey. In addition to collecting basic demographic information, participants were also asked to complete two short tasks, _clock drawing_ and _clock reading_, in that order.\n",
    "\n",
    "### Clock Drawing\n",
    "\n",
    "Participants were directed to a third-party site, sketch.io, and asked to draw an analogy clock representing a particular time. After completing their drawing, they were asked to make the drawing public, and upload a link to it using the survey. Participants who were on a phone were given the option of skipping the clock drawing task.\n",
    "\n",
    "In this part of the study, we were primarily interested in looking at how people drew the hour hand of the clocks. Would they draw _figurative_ clocks, with the hour hand pointing directly at the hour numeral, or would they draw _realistic_ clocks, whose hand advanced with the minute hand? After collecting all responses, we downloaded the clock images, and independently coded "
   ]
  }
 ],
 "metadata": {
  "kernelspec": {
   "display_name": "R",
   "language": "R",
   "name": "ir"
  },
  "language_info": {
   "codemirror_mode": "r",
   "file_extension": ".r",
   "mimetype": "text/x-r-source",
   "name": "R",
   "pygments_lexer": "r",
   "version": "3.4.3"
  }
 },
 "nbformat": 4,
 "nbformat_minor": 2
}
